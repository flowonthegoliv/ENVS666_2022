{
  "nbformat": 4,
  "nbformat_minor": 0,
  "metadata": {
    "colab": {
      "name": "very_basics.ipynb",
      "provenance": [],
      "authorship_tag": "ABX9TyOji/MhWCeqGxELjKWFOR65",
      "include_colab_link": true
    },
    "kernelspec": {
      "name": "python3",
      "display_name": "Python 3"
    },
    "language_info": {
      "name": "python"
    }
  },
  "cells": [
    {
      "cell_type": "markdown",
      "metadata": {
        "id": "view-in-github",
        "colab_type": "text"
      },
      "source": [
        "<a href=\"https://colab.research.google.com/github/flowonthegoliv/ENVS666_2022/blob/main/very_basics.ipynb\" target=\"_parent\"><img src=\"https://colab.research.google.com/assets/colab-badge.svg\" alt=\"Open In Colab\"/></a>"
      ]
    },
    {
      "cell_type": "code",
      "execution_count": null,
      "metadata": {
        "id": "LOYj83WoARyq"
      },
      "outputs": [],
      "source": [
        "#Add this to the beginning of your script to create your dataset.  \n",
        "student_id = 2015546394 #here you need to change this number for your student ID \n",
        "import requests\n",
        "r = requests.get('https://raw.githubusercontent.com/flowonthegoliv/ENVS231_2022/main/make_data.py')\n",
        "with open('make_data.py', 'w') as f:\n",
        "    f.write(r.text)\n",
        "import make_data\n",
        "datetime, dat1, dat2, dat3 = make_data.make_data(student_id)\n"
      ]
    },
    {
      "cell_type": "code",
      "source": [
        "#first we will compute the statistics \n",
        "import numpy as np\n",
        "\n",
        "#https://numpy.org/doc/stable/reference/routines.statistics.html\n",
        "\n",
        "mean1 = np.nanmean(dat1);\n",
        "std1 = np.nanstd(dat1);\n",
        "med1 = np.nanmedian(dat1);\n",
        "max1 = np.nanmax(dat1);\n",
        "min1 = np.nanmin(dat1);\n",
        "var1 = np.nanvar(dat1);\n",
        "\n",
        "\n",
        "span = np.linspace(min1,max1,10)\n",
        "\n",
        "bins = np.zeros([9,])\n",
        "count = np.zeros([9,])\n",
        "for i in range(0,9):\n",
        "  count[i]=sum(np.logical_and(dat1>=span[i],dat1<span[i+1]))\n",
        "count\n",
        "\n",
        "p5 = np.nanpercentile(dat1,5)\n",
        "p95 = np.nanpercentile(dat1,95)\n",
        "\n"
      ],
      "metadata": {
        "id": "va-qH9JJAUr0"
      },
      "execution_count": null,
      "outputs": []
    },
    {
      "cell_type": "code",
      "source": [
        "import matplotlib.pyplot as plt\n",
        "\n",
        "plt.plot(datetime,dat1)\n",
        "plt.plot(datetime,mean1*np.ones(len(datetime)))\n",
        "plt.plot(datetime,mean1+std1*np.ones(len(datetime)))\n",
        "plt.plot(datetime,mean1-std1*np.ones(len(datetime)))\n",
        "\n",
        "\n",
        "plt.xlabel(\"X axis label\")\n",
        "plt.ylabel(\"Y axis label\")\n",
        "plt.title(\"title\")\n",
        "\n"
      ],
      "metadata": {
        "colab": {
          "base_uri": "https://localhost:8080/",
          "height": 312
        },
        "id": "glUYmh6vCYzt",
        "outputId": "7d40cc99-3375-41ba-cfb6-8d92e9e24b71"
      },
      "execution_count": null,
      "outputs": [
        {
          "output_type": "execute_result",
          "data": {
            "text/plain": [
              "Text(0.5, 1.0, 'title')"
            ]
          },
          "metadata": {},
          "execution_count": 49
        },
        {
          "output_type": "display_data",
          "data": {
            "text/plain": [
              "<Figure size 432x288 with 1 Axes>"
            ],
            "image/png": "[encoded data removed]"
          },
          "metadata": {
            "needs_background": "light"
          }
        }
      ]
    },
    {
      "cell_type": "code",
      "source": [
        "data = dat1[~np.isnan(dat1)]\n",
        "plt.hist(data,bins=100,range=[0,50])\n",
        "plt.xlabel(\"X axis label\")\n",
        "plt.ylabel(\"Y axis label\")\n",
        "plt.title(\"title\")"
      ],
      "metadata": {
        "colab": {
          "base_uri": "https://localhost:8080/",
          "height": 312
        },
        "id": "LSQyLA23HodZ",
        "outputId": "da456bf5-b4fa-4f5a-efe3-6f9cc05154da"
      },
      "execution_count": null,
      "outputs": [
        {
          "output_type": "execute_result",
          "data": {
            "text/plain": [
              "Text(0.5, 1.0, 'title')"
            ]
          },
          "metadata": {},
          "execution_count": 63
        },
        {
          "output_type": "display_data",
          "data": {
            "text/plain": [
              "<Figure size 432x288 with 1 Axes>"
            ],
            "image/png": "[encoded data removed]"
          },
          "metadata": {
            "needs_background": "light"
          }
        }
      ]
    }
  ]
}